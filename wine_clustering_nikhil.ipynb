{
 "cells": [
  {
   "cell_type": "markdown",
   "id": "447abf44",
   "metadata": {},
   "source": [
    "# Loading Wine Recognition Dataset"
   ]
  },
  {
   "cell_type": "markdown",
   "id": "d0afe181",
   "metadata": {},
   "source": [
    "Firstly I will import datasets from sklearn."
   ]
  },
  {
   "cell_type": "code",
   "execution_count": 1,
   "id": "d6630451",
   "metadata": {},
   "outputs": [],
   "source": [
    "from sklearn import datasets"
   ]
  },
  {
   "cell_type": "markdown",
   "id": "ba8da39c",
   "metadata": {},
   "source": [
    "Then from the sklearn datasets I will load the 'wine' dataset and get its full description."
   ]
  },
  {
   "cell_type": "code",
   "execution_count": 2,
   "id": "cbd76882",
   "metadata": {},
   "outputs": [
    {
     "name": "stdout",
     "output_type": "stream",
     "text": [
      ".. _wine_dataset:\n",
      "\n",
      "Wine recognition dataset\n",
      "------------------------\n",
      "\n",
      "**Data Set Characteristics:**\n",
      "\n",
      "    :Number of Instances: 178 (50 in each of three classes)\n",
      "    :Number of Attributes: 13 numeric, predictive attributes and the class\n",
      "    :Attribute Information:\n",
      " \t\t- Alcohol\n",
      " \t\t- Malic acid\n",
      " \t\t- Ash\n",
      "\t\t- Alcalinity of ash  \n",
      " \t\t- Magnesium\n",
      "\t\t- Total phenols\n",
      " \t\t- Flavanoids\n",
      " \t\t- Nonflavanoid phenols\n",
      " \t\t- Proanthocyanins\n",
      "\t\t- Color intensity\n",
      " \t\t- Hue\n",
      " \t\t- OD280/OD315 of diluted wines\n",
      " \t\t- Proline\n",
      "\n",
      "    - class:\n",
      "            - class_0\n",
      "            - class_1\n",
      "            - class_2\n",
      "\t\t\n",
      "    :Summary Statistics:\n",
      "    \n",
      "    ============================= ==== ===== ======= =====\n",
      "                                   Min   Max   Mean     SD\n",
      "    ============================= ==== ===== ======= =====\n",
      "    Alcohol:                      11.0  14.8    13.0   0.8\n",
      "    Malic Acid:                   0.74  5.80    2.34  1.12\n",
      "    Ash:                          1.36  3.23    2.36  0.27\n",
      "    Alcalinity of Ash:            10.6  30.0    19.5   3.3\n",
      "    Magnesium:                    70.0 162.0    99.7  14.3\n",
      "    Total Phenols:                0.98  3.88    2.29  0.63\n",
      "    Flavanoids:                   0.34  5.08    2.03  1.00\n",
      "    Nonflavanoid Phenols:         0.13  0.66    0.36  0.12\n",
      "    Proanthocyanins:              0.41  3.58    1.59  0.57\n",
      "    Colour Intensity:              1.3  13.0     5.1   2.3\n",
      "    Hue:                          0.48  1.71    0.96  0.23\n",
      "    OD280/OD315 of diluted wines: 1.27  4.00    2.61  0.71\n",
      "    Proline:                       278  1680     746   315\n",
      "    ============================= ==== ===== ======= =====\n",
      "\n",
      "    :Missing Attribute Values: None\n",
      "    :Class Distribution: class_0 (59), class_1 (71), class_2 (48)\n",
      "    :Creator: R.A. Fisher\n",
      "    :Donor: Michael Marshall (MARSHALL%PLU@io.arc.nasa.gov)\n",
      "    :Date: July, 1988\n",
      "\n",
      "This is a copy of UCI ML Wine recognition datasets.\n",
      "https://archive.ics.uci.edu/ml/machine-learning-databases/wine/wine.data\n",
      "\n",
      "The data is the results of a chemical analysis of wines grown in the same\n",
      "region in Italy by three different cultivators. There are thirteen different\n",
      "measurements taken for different constituents found in the three types of\n",
      "wine.\n",
      "\n",
      "Original Owners: \n",
      "\n",
      "Forina, M. et al, PARVUS - \n",
      "An Extendible Package for Data Exploration, Classification and Correlation. \n",
      "Institute of Pharmaceutical and Food Analysis and Technologies,\n",
      "Via Brigata Salerno, 16147 Genoa, Italy.\n",
      "\n",
      "Citation:\n",
      "\n",
      "Lichman, M. (2013). UCI Machine Learning Repository\n",
      "[https://archive.ics.uci.edu/ml]. Irvine, CA: University of California,\n",
      "School of Information and Computer Science. \n",
      "\n",
      ".. topic:: References\n",
      "\n",
      "  (1) S. Aeberhard, D. Coomans and O. de Vel, \n",
      "  Comparison of Classifiers in High Dimensional Settings, \n",
      "  Tech. Rep. no. 92-02, (1992), Dept. of Computer Science and Dept. of  \n",
      "  Mathematics and Statistics, James Cook University of North Queensland. \n",
      "  (Also submitted to Technometrics). \n",
      "\n",
      "  The data was used with many others for comparing various \n",
      "  classifiers. The classes are separable, though only RDA \n",
      "  has achieved 100% correct classification. \n",
      "  (RDA : 100%, QDA 99.4%, LDA 98.9%, 1NN 96.1% (z-transformed data)) \n",
      "  (All results using the leave-one-out technique) \n",
      "\n",
      "  (2) S. Aeberhard, D. Coomans and O. de Vel, \n",
      "  \"THE CLASSIFICATION PERFORMANCE OF RDA\" \n",
      "  Tech. Rep. no. 92-01, (1992), Dept. of Computer Science and Dept. of \n",
      "  Mathematics and Statistics, James Cook University of North Queensland. \n",
      "  (Also submitted to Journal of Chemometrics).\n",
      "\n"
     ]
    }
   ],
   "source": [
    "wine_data = datasets.load_wine()\n",
    "print(wine_data['DESCR'])"
   ]
  },
  {
   "cell_type": "markdown",
   "id": "f5a0e0b1",
   "metadata": {},
   "source": [
    "# Visualize and Preprocess Data"
   ]
  },
  {
   "cell_type": "markdown",
   "id": "935b3131",
   "metadata": {},
   "source": [
    "I will now check the shapes of the 'data' and target' fields"
   ]
  },
  {
   "cell_type": "code",
   "execution_count": 3,
   "id": "32bc45eb",
   "metadata": {},
   "outputs": [
    {
     "name": "stdout",
     "output_type": "stream",
     "text": [
      "data.shape\t (178, 13) \n",
      "target.shape \t (178,)\n"
     ]
    }
   ],
   "source": [
    "X = wine_data['data']\n",
    "y = wine_data['target']\n",
    "\n",
    "print('data.shape\\t',X.shape,\n",
    "      '\\ntarget.shape \\t',y.shape)"
   ]
  },
  {
   "cell_type": "markdown",
   "id": "ec3829f2",
   "metadata": {},
   "source": [
    "With this it is confirmed that there are 178 samples (rows) and 13 feaures (columns)\n",
    "I will now build a pandas DataFrame, to hold the data so that we can visualize the dataset into a tabular form."
   ]
  },
  {
   "cell_type": "code",
   "execution_count": 4,
   "id": "f7c81d5d",
   "metadata": {},
   "outputs": [
    {
     "data": {
      "text/html": [
       "<div>\n",
       "<style scoped>\n",
       "    .dataframe tbody tr th:only-of-type {\n",
       "        vertical-align: middle;\n",
       "    }\n",
       "\n",
       "    .dataframe tbody tr th {\n",
       "        vertical-align: top;\n",
       "    }\n",
       "\n",
       "    .dataframe thead th {\n",
       "        text-align: right;\n",
       "    }\n",
       "</style>\n",
       "<table border=\"1\" class=\"dataframe\">\n",
       "  <thead>\n",
       "    <tr style=\"text-align: right;\">\n",
       "      <th></th>\n",
       "      <th>alcohol</th>\n",
       "      <th>malic_acid</th>\n",
       "      <th>ash</th>\n",
       "      <th>alcalinity_of_ash</th>\n",
       "      <th>magnesium</th>\n",
       "      <th>total_phenols</th>\n",
       "      <th>flavanoids</th>\n",
       "      <th>nonflavanoid_phenols</th>\n",
       "      <th>proanthocyanins</th>\n",
       "      <th>color_intensity</th>\n",
       "      <th>hue</th>\n",
       "      <th>od280/od315_of_diluted_wines</th>\n",
       "      <th>proline</th>\n",
       "      <th>target</th>\n",
       "    </tr>\n",
       "  </thead>\n",
       "  <tbody>\n",
       "    <tr>\n",
       "      <th>0</th>\n",
       "      <td>14.23</td>\n",
       "      <td>1.71</td>\n",
       "      <td>2.43</td>\n",
       "      <td>15.6</td>\n",
       "      <td>127.0</td>\n",
       "      <td>2.80</td>\n",
       "      <td>3.06</td>\n",
       "      <td>0.28</td>\n",
       "      <td>2.29</td>\n",
       "      <td>5.64</td>\n",
       "      <td>1.04</td>\n",
       "      <td>3.92</td>\n",
       "      <td>1065.0</td>\n",
       "      <td>0.0</td>\n",
       "    </tr>\n",
       "    <tr>\n",
       "      <th>1</th>\n",
       "      <td>13.20</td>\n",
       "      <td>1.78</td>\n",
       "      <td>2.14</td>\n",
       "      <td>11.2</td>\n",
       "      <td>100.0</td>\n",
       "      <td>2.65</td>\n",
       "      <td>2.76</td>\n",
       "      <td>0.26</td>\n",
       "      <td>1.28</td>\n",
       "      <td>4.38</td>\n",
       "      <td>1.05</td>\n",
       "      <td>3.40</td>\n",
       "      <td>1050.0</td>\n",
       "      <td>0.0</td>\n",
       "    </tr>\n",
       "    <tr>\n",
       "      <th>2</th>\n",
       "      <td>13.16</td>\n",
       "      <td>2.36</td>\n",
       "      <td>2.67</td>\n",
       "      <td>18.6</td>\n",
       "      <td>101.0</td>\n",
       "      <td>2.80</td>\n",
       "      <td>3.24</td>\n",
       "      <td>0.30</td>\n",
       "      <td>2.81</td>\n",
       "      <td>5.68</td>\n",
       "      <td>1.03</td>\n",
       "      <td>3.17</td>\n",
       "      <td>1185.0</td>\n",
       "      <td>0.0</td>\n",
       "    </tr>\n",
       "    <tr>\n",
       "      <th>3</th>\n",
       "      <td>14.37</td>\n",
       "      <td>1.95</td>\n",
       "      <td>2.50</td>\n",
       "      <td>16.8</td>\n",
       "      <td>113.0</td>\n",
       "      <td>3.85</td>\n",
       "      <td>3.49</td>\n",
       "      <td>0.24</td>\n",
       "      <td>2.18</td>\n",
       "      <td>7.80</td>\n",
       "      <td>0.86</td>\n",
       "      <td>3.45</td>\n",
       "      <td>1480.0</td>\n",
       "      <td>0.0</td>\n",
       "    </tr>\n",
       "    <tr>\n",
       "      <th>4</th>\n",
       "      <td>13.24</td>\n",
       "      <td>2.59</td>\n",
       "      <td>2.87</td>\n",
       "      <td>21.0</td>\n",
       "      <td>118.0</td>\n",
       "      <td>2.80</td>\n",
       "      <td>2.69</td>\n",
       "      <td>0.39</td>\n",
       "      <td>1.82</td>\n",
       "      <td>4.32</td>\n",
       "      <td>1.04</td>\n",
       "      <td>2.93</td>\n",
       "      <td>735.0</td>\n",
       "      <td>0.0</td>\n",
       "    </tr>\n",
       "    <tr>\n",
       "      <th>...</th>\n",
       "      <td>...</td>\n",
       "      <td>...</td>\n",
       "      <td>...</td>\n",
       "      <td>...</td>\n",
       "      <td>...</td>\n",
       "      <td>...</td>\n",
       "      <td>...</td>\n",
       "      <td>...</td>\n",
       "      <td>...</td>\n",
       "      <td>...</td>\n",
       "      <td>...</td>\n",
       "      <td>...</td>\n",
       "      <td>...</td>\n",
       "      <td>...</td>\n",
       "    </tr>\n",
       "    <tr>\n",
       "      <th>173</th>\n",
       "      <td>13.71</td>\n",
       "      <td>5.65</td>\n",
       "      <td>2.45</td>\n",
       "      <td>20.5</td>\n",
       "      <td>95.0</td>\n",
       "      <td>1.68</td>\n",
       "      <td>0.61</td>\n",
       "      <td>0.52</td>\n",
       "      <td>1.06</td>\n",
       "      <td>7.70</td>\n",
       "      <td>0.64</td>\n",
       "      <td>1.74</td>\n",
       "      <td>740.0</td>\n",
       "      <td>2.0</td>\n",
       "    </tr>\n",
       "    <tr>\n",
       "      <th>174</th>\n",
       "      <td>13.40</td>\n",
       "      <td>3.91</td>\n",
       "      <td>2.48</td>\n",
       "      <td>23.0</td>\n",
       "      <td>102.0</td>\n",
       "      <td>1.80</td>\n",
       "      <td>0.75</td>\n",
       "      <td>0.43</td>\n",
       "      <td>1.41</td>\n",
       "      <td>7.30</td>\n",
       "      <td>0.70</td>\n",
       "      <td>1.56</td>\n",
       "      <td>750.0</td>\n",
       "      <td>2.0</td>\n",
       "    </tr>\n",
       "    <tr>\n",
       "      <th>175</th>\n",
       "      <td>13.27</td>\n",
       "      <td>4.28</td>\n",
       "      <td>2.26</td>\n",
       "      <td>20.0</td>\n",
       "      <td>120.0</td>\n",
       "      <td>1.59</td>\n",
       "      <td>0.69</td>\n",
       "      <td>0.43</td>\n",
       "      <td>1.35</td>\n",
       "      <td>10.20</td>\n",
       "      <td>0.59</td>\n",
       "      <td>1.56</td>\n",
       "      <td>835.0</td>\n",
       "      <td>2.0</td>\n",
       "    </tr>\n",
       "    <tr>\n",
       "      <th>176</th>\n",
       "      <td>13.17</td>\n",
       "      <td>2.59</td>\n",
       "      <td>2.37</td>\n",
       "      <td>20.0</td>\n",
       "      <td>120.0</td>\n",
       "      <td>1.65</td>\n",
       "      <td>0.68</td>\n",
       "      <td>0.53</td>\n",
       "      <td>1.46</td>\n",
       "      <td>9.30</td>\n",
       "      <td>0.60</td>\n",
       "      <td>1.62</td>\n",
       "      <td>840.0</td>\n",
       "      <td>2.0</td>\n",
       "    </tr>\n",
       "    <tr>\n",
       "      <th>177</th>\n",
       "      <td>14.13</td>\n",
       "      <td>4.10</td>\n",
       "      <td>2.74</td>\n",
       "      <td>24.5</td>\n",
       "      <td>96.0</td>\n",
       "      <td>2.05</td>\n",
       "      <td>0.76</td>\n",
       "      <td>0.56</td>\n",
       "      <td>1.35</td>\n",
       "      <td>9.20</td>\n",
       "      <td>0.61</td>\n",
       "      <td>1.60</td>\n",
       "      <td>560.0</td>\n",
       "      <td>2.0</td>\n",
       "    </tr>\n",
       "  </tbody>\n",
       "</table>\n",
       "<p>178 rows × 14 columns</p>\n",
       "</div>"
      ],
      "text/plain": [
       "     alcohol  malic_acid   ash  alcalinity_of_ash  magnesium  total_phenols  \\\n",
       "0      14.23        1.71  2.43               15.6      127.0           2.80   \n",
       "1      13.20        1.78  2.14               11.2      100.0           2.65   \n",
       "2      13.16        2.36  2.67               18.6      101.0           2.80   \n",
       "3      14.37        1.95  2.50               16.8      113.0           3.85   \n",
       "4      13.24        2.59  2.87               21.0      118.0           2.80   \n",
       "..       ...         ...   ...                ...        ...            ...   \n",
       "173    13.71        5.65  2.45               20.5       95.0           1.68   \n",
       "174    13.40        3.91  2.48               23.0      102.0           1.80   \n",
       "175    13.27        4.28  2.26               20.0      120.0           1.59   \n",
       "176    13.17        2.59  2.37               20.0      120.0           1.65   \n",
       "177    14.13        4.10  2.74               24.5       96.0           2.05   \n",
       "\n",
       "     flavanoids  nonflavanoid_phenols  proanthocyanins  color_intensity   hue  \\\n",
       "0          3.06                  0.28             2.29             5.64  1.04   \n",
       "1          2.76                  0.26             1.28             4.38  1.05   \n",
       "2          3.24                  0.30             2.81             5.68  1.03   \n",
       "3          3.49                  0.24             2.18             7.80  0.86   \n",
       "4          2.69                  0.39             1.82             4.32  1.04   \n",
       "..          ...                   ...              ...              ...   ...   \n",
       "173        0.61                  0.52             1.06             7.70  0.64   \n",
       "174        0.75                  0.43             1.41             7.30  0.70   \n",
       "175        0.69                  0.43             1.35            10.20  0.59   \n",
       "176        0.68                  0.53             1.46             9.30  0.60   \n",
       "177        0.76                  0.56             1.35             9.20  0.61   \n",
       "\n",
       "     od280/od315_of_diluted_wines  proline  target  \n",
       "0                            3.92   1065.0     0.0  \n",
       "1                            3.40   1050.0     0.0  \n",
       "2                            3.17   1185.0     0.0  \n",
       "3                            3.45   1480.0     0.0  \n",
       "4                            2.93    735.0     0.0  \n",
       "..                            ...      ...     ...  \n",
       "173                          1.74    740.0     2.0  \n",
       "174                          1.56    750.0     2.0  \n",
       "175                          1.56    835.0     2.0  \n",
       "176                          1.62    840.0     2.0  \n",
       "177                          1.60    560.0     2.0  \n",
       "\n",
       "[178 rows x 14 columns]"
      ]
     },
     "execution_count": 4,
     "metadata": {},
     "output_type": "execute_result"
    }
   ],
   "source": [
    "import numpy as np\n",
    "import pandas as pd\n",
    "\n",
    "datawine = pd.DataFrame(data= np.c_[X,y],columns= wine_data['feature_names'] + ['target'])\n",
    "datawine"
   ]
  },
  {
   "cell_type": "markdown",
   "id": "a4b0216b",
   "metadata": {},
   "source": [
    "With this DataFrame I can check for any missing values."
   ]
  },
  {
   "cell_type": "code",
   "execution_count": 5,
   "id": "f5d5d4a5",
   "metadata": {},
   "outputs": [
    {
     "data": {
      "text/plain": [
       "alcohol                         0\n",
       "malic_acid                      0\n",
       "ash                             0\n",
       "alcalinity_of_ash               0\n",
       "magnesium                       0\n",
       "total_phenols                   0\n",
       "flavanoids                      0\n",
       "nonflavanoid_phenols            0\n",
       "proanthocyanins                 0\n",
       "color_intensity                 0\n",
       "hue                             0\n",
       "od280/od315_of_diluted_wines    0\n",
       "proline                         0\n",
       "target                          0\n",
       "dtype: int64"
      ]
     },
     "execution_count": 5,
     "metadata": {},
     "output_type": "execute_result"
    }
   ],
   "source": [
    "datawine.isnull().sum()"
   ]
  },
  {
   "cell_type": "markdown",
   "id": "b719d963",
   "metadata": {},
   "source": [
    "This confirms that there are no missing values and categorical data\n",
    "The final step to data preprocessing is Feature Scaling. This is done by importing StandardScaler from sklearn.preprocessing"
   ]
  },
  {
   "cell_type": "code",
   "execution_count": 6,
   "id": "0f569ff0",
   "metadata": {},
   "outputs": [],
   "source": [
    "from sklearn.preprocessing import StandardScaler\n",
    "\n",
    "st_x= StandardScaler()\n",
    "X= st_x.fit_transform(X)"
   ]
  },
  {
   "cell_type": "markdown",
   "id": "fd8eae55",
   "metadata": {},
   "source": [
    "# Split Data For Training & Testing"
   ]
  },
  {
   "cell_type": "markdown",
   "id": "ec638e83",
   "metadata": {},
   "source": [
    "To train and test our model effectively, we must first separate the data into a training set, which we will feed to our model along with the training labels. The model will then be tested on the 'test' data after it has been trained to determine its real-world applicability.\n",
    "\n",
    "The train test split() method in Scikit-learn comes in handy here. test size specifies how much data is set aside for testing. We want to train our model on enough data to make good predictions, but we also need enough test data to see if we've overfitted the model. Therefore I will choose to test with 20% of the data. This means 80% of data will used for training."
   ]
  },
  {
   "cell_type": "code",
   "execution_count": 7,
   "id": "40cf1e6e",
   "metadata": {},
   "outputs": [
    {
     "name": "stdout",
     "output_type": "stream",
     "text": [
      "142  samples in training data\n",
      " 36  samples in test data\n",
      "\n"
     ]
    }
   ],
   "source": [
    "from sklearn.model_selection import train_test_split\n",
    "\n",
    "train_data, test_data, train_labels, test_labels = train_test_split(\n",
    "    X, y, test_size=0.2, random_state=42 #I chose 42 for random_state as is the most common number used for random_state\n",
    ")\n",
    "\n",
    "print(len(train_data),' samples in training data\\n',\n",
    "      len(test_data),' samples in test data\\n', )"
   ]
  },
  {
   "cell_type": "markdown",
   "id": "60e57145",
   "metadata": {},
   "source": [
    "# Train PCA model on train subset"
   ]
  },
  {
   "cell_type": "markdown",
   "id": "1cb2921e",
   "metadata": {},
   "source": [
    "Next, I will train a PCA model on the train subset and reduce the number of coordinates to 2. PCA can be imported from sklearn.decomposition. PCA is a dimensionality reduction technique that is commonly used in data preprocessing and feature extraction."
   ]
  },
  {
   "cell_type": "code",
   "execution_count": 8,
   "id": "6650ba4c",
   "metadata": {},
   "outputs": [],
   "source": [
    "from sklearn.decomposition import PCA\n",
    "\n",
    "pca = PCA(n_components=2)\n",
    "train_data_pca = pca.fit_transform(train_data)"
   ]
  },
  {
   "cell_type": "markdown",
   "id": "d485c980",
   "metadata": {},
   "source": [
    "# K-Means Clustering with n_clusters = number of unique class labels"
   ]
  },
  {
   "cell_type": "markdown",
   "id": "ed04b170",
   "metadata": {},
   "source": [
    "I will import the KMeans class from the scikit-learn library's cluster module. I will set the number of clusters to equal the number of unqiue class labels. This means that the number of clusters should be 3. Random state is set to 42 for reproductability. These will be the only parameters that will change in the K-means model. I will then fit this model into the training data."
   ]
  },
  {
   "cell_type": "code",
   "execution_count": 9,
   "id": "bc1af84f",
   "metadata": {},
   "outputs": [
    {
     "data": {
      "text/plain": [
       "KMeans(n_clusters=3, random_state=42)"
      ]
     },
     "execution_count": 9,
     "metadata": {},
     "output_type": "execute_result"
    }
   ],
   "source": [
    "from sklearn.cluster import KMeans\n",
    "\n",
    "kmeans = KMeans(n_clusters=len(np.unique(train_labels)), random_state=42)\n",
    "kmeans.fit(train_data)"
   ]
  },
  {
   "cell_type": "markdown",
   "id": "493784d8",
   "metadata": {},
   "source": [
    "The kmeans.predict() method is used to predict the clusters of the test data points. The resulting cluster labels are stored in cluster_labels. A cluster composition table is created showing the number of samples in each class that are assigned to each cluster. The table is stored in a pandas DataFrame called table_df. Then a scatter plot of the first two principal components of the transformed data is created, with the points colored by their predicted cluster assignments."
   ]
  },
  {
   "cell_type": "code",
   "execution_count": 10,
   "id": "5db72c42",
   "metadata": {},
   "outputs": [
    {
     "name": "stdout",
     "output_type": "stream",
     "text": [
      "Table for KMeans clustering with 3 clusters\n",
      "         Cluster 1  Cluster 2  Cluster 3\n",
      "Class 0       14.0        0.0        0.0\n",
      "Class 1        0.0        1.0       13.0\n",
      "Class 2        0.0        8.0        0.0\n"
     ]
    },
    {
     "data": {
      "image/png": "[encoded data removed]",
      "text/plain": [
       "<Figure size 640x480 with 1 Axes>"
      ]
     },
     "metadata": {},
     "output_type": "display_data"
    }
   ],
   "source": [
    "import matplotlib.pyplot as plt\n",
    "cluster_labels4 = kmeans.predict(test_data)\n",
    "table = np.zeros((len(np.unique(test_labels)), len(np.unique(cluster_labels4))))\n",
    "for i, label in enumerate(np.unique(test_labels)):\n",
    "    for j, cluster_label in enumerate(np.unique(cluster_labels4)):\n",
    "        table[i, j] = np.sum((test_labels == label) & (cluster_labels4 == cluster_label))\n",
    "\n",
    "table_df = pd.DataFrame(table, columns=['Cluster 1', 'Cluster 2', 'Cluster 3'], index=['Class 0', 'Class 1', 'Class 2'])\n",
    "print('Table for KMeans clustering with', len(np.unique(train_labels)), 'clusters')\n",
    "print(table_df)\n",
    "plt.figure(1)\n",
    "plt.scatter(pca.transform(test_data)[:, 0], pca.transform(test_data)[:, 1], c=cluster_labels4)\n",
    "plt.xlabel('PCA Component 1')\n",
    "plt.ylabel('PCA Component 2')\n",
    "plt.title(f\"K-Means Clustering of Wine Dataset (n_clusters = 2)\")\n",
    "plt.show()"
   ]
  },
  {
   "cell_type": "markdown",
   "id": "13c3381a",
   "metadata": {},
   "source": [
    "Class 0: There are 14 samples that belong to Class 0, and all of them are assigned to Cluster 1. This means that the KMeans algorithm was able to correctly identify all the samples in Class 0 as belonging to a single cluster (Cluster 1).\n",
    "\n",
    "Class 1: There are 14 samples that belong to Class 1, and 13 of them are assigned to Cluster 3. There is 1 sample assigned to Cluster 2. This suggests that the KMeans algorithm was not able to clearly separate samples in Class 1 into a distinct single cluster, with some samples being assigned to Cluster 3 and others being assigned to Cluster 2.\n",
    "\n",
    "Class 2: There are 8 samples that belong to Class 2, and all of them are assigned to Cluster 2. This means that the KMeans algorithm was able to correctly identify all the samples in Class 0 as belonging to a single cluster (Cluster 1).\n",
    "\n",
    "The scatter plot output shows a visual representation of the clusters. Each point in the plot represents a data point from the test set, and its color indicates which cluster it was assigned to by the KMeans algorithm. The axes are labeled according to the first two principal components of the dataset. Each cluster represents a group of samples that are more similar to each other than to samples from the other cluster. By looking at the plot, it is quite visible enough that there are three distinct clusters."
   ]
  },
  {
   "cell_type": "markdown",
   "id": "ea428dc9",
   "metadata": {},
   "source": [
    "# K-Means Clustering with n_clusters = 5"
   ]
  },
  {
   "cell_type": "markdown",
   "id": "3b7287f8",
   "metadata": {},
   "source": [
    "I will do the same procedure but this time I will increase the number of clusters by 2 it to see the difference in results. This means that the number of clusters should be 5."
   ]
  },
  {
   "cell_type": "code",
   "execution_count": 11,
   "id": "7df0f40e",
   "metadata": {},
   "outputs": [
    {
     "data": {
      "text/plain": [
       "KMeans(n_clusters=5, random_state=42)"
      ]
     },
     "execution_count": 11,
     "metadata": {},
     "output_type": "execute_result"
    }
   ],
   "source": [
    "kmeans2 = KMeans(n_clusters=5, random_state=42)\n",
    "kmeans2.fit(train_data)"
   ]
  },
  {
   "cell_type": "code",
   "execution_count": 12,
   "id": "48fa094e",
   "metadata": {},
   "outputs": [
    {
     "name": "stdout",
     "output_type": "stream",
     "text": [
      "Table for KMeans clustering with 5 clusters\n",
      "         Cluster 1  Cluster 2  Cluster 3  Cluster 4  Cluster 5\n",
      "Class 0       13.0        0.0        0.0        1.0        0.0\n",
      "Class 1        0.0        7.0        0.0        6.0        1.0\n",
      "Class 2        0.0        0.0        8.0        0.0        0.0\n"
     ]
    },
    {
     "data": {
      "image/png": "[encoded data removed]",
      "text/plain": [
       "<Figure size 640x480 with 1 Axes>"
      ]
     },
     "metadata": {},
     "output_type": "display_data"
    }
   ],
   "source": [
    "cluster_labels5 = kmeans2.predict(test_data)\n",
    "table = np.zeros((len(np.unique(test_labels)), len(np.unique(cluster_labels5))))\n",
    "for i, label in enumerate(np.unique(test_labels)):\n",
    "    for j, cluster_label in enumerate(np.unique(cluster_labels5)):\n",
    "        table[i, j] = np.sum((test_labels == label) & (cluster_labels5 == cluster_label))\n",
    "\n",
    "table_df = pd.DataFrame(table, columns=['Cluster 1', 'Cluster 2', 'Cluster 3', 'Cluster 4', 'Cluster 5'], index=['Class 0', 'Class 1', 'Class 2'])\n",
    "print('Table for KMeans clustering with', 5, 'clusters')\n",
    "print(table_df)\n",
    "                           \n",
    "plt.figure(2)\n",
    "plt.scatter(pca.transform(test_data)[:, 0], pca.transform(test_data)[:, 1], c=cluster_labels5)\n",
    "plt.xlabel('PCA Component 1')\n",
    "plt.ylabel('PCA Component 2')\n",
    "plt.title(f\"K-Means Clustering of Wine Dataset (n_clusters = 5)\")\n",
    "plt.show()"
   ]
  },
  {
   "cell_type": "markdown",
   "id": "919e88d5",
   "metadata": {},
   "source": [
    "Class 0: There are 14 samples that belong to Class 0, and all of them are assigned to Cluster 1, except one which is assigned to Cluster 4. This means that the KMeans algorithm was able to correctly identify almost all the samples in Class 0 as belonging to a single cluster (Cluster 1).\n",
    "\n",
    "Class 1: There are 14 samples that belong to Class 1, and 7 of them are assigned to Cluster 1. 6 of them are assigned to Cluster 4, and 1 sample is assigned to Cluster 5. This suggests that the KMeans algorithm was able to identify two distinct clusters for Class 1, with some samples being assigned to Cluster 2, others to Cluster 4 (which is not a distinct cluster), and one to Cluster 5 (number of samples in the cluster is much smaller, which makes it more difficult to draw meaningful conclusions).\n",
    "\n",
    "Class 2: There are 8 samples that belong to Class 0, and all of them are assigned to Cluster 3 which is a distinct cluster. This means that the KMeans algorithm was able to correctly identify all the samples in Class 2 as belonging to a single cluster (Cluster 3).\n",
    "\n",
    "The scatter plot output shows a visual representation of the clusters. Each point in the plot represents a data point from the test set, and its color indicates which cluster it was assigned to by the KMeans algorithm. The axes are labeled according to the first two principal components of the dataset. Each cluster represents a group of samples that are more similar to each other than to samples from the other cluster. By looking at the plot, it is quite visible enough that there are 5 different clusters, however there is an overlapping between 2 cluster 2 and cluster 4, and 1 cluster has only one sample."
   ]
  },
  {
   "cell_type": "markdown",
   "id": "0a64a26d",
   "metadata": {},
   "source": [
    "# Agglomerative Clustering"
   ]
  },
  {
   "cell_type": "markdown",
   "id": "c6e344b7",
   "metadata": {},
   "source": [
    "In agglomerative clustering, there are four main types of linkage, each of which defines how the distance between two clusters is computed. The four types of linkage are:\n",
    "\n",
    "In agglomerative clustering, the algorithm begins by computing the distance between each pair of data points. It then considers each data point as a separate cluster and merges the closest pair of clusters at each iteration. The process of merging clusters continues until all points belong to a single cluster.\n",
    "\n",
    "Single Linkage:\n",
    "Single linkage measures the distance between the two closest points in each pair of clusters. The distance between two clusters is the minimum distance between any pair of points from the two clusters. Single linkage tends to produce long, chain-like clusters, and is particularly sensitive to noise and outliers.\n",
    "\n",
    "Complete Linkage:\n",
    "Complete linkage measures the distance between the two farthest points in each pair of clusters. The distance between two clusters is the maximum distance between any pair of points from the two clusters. Complete linkage tends to produce more compact, spherical clusters, and is less sensitive to noise and outliers than single linkage.\n",
    "\n",
    "Average Linkage:\n",
    "Average linkage computes the average distance between all pairs of points in each pair of clusters. The distance between two clusters is the average distance between all pairs of points from the two clusters. Average linkage is a compromise between single and complete linkage, and tends to produce clusters that are less sensitive to noise and outliers than single linkage, while being less compact than complete linkage.\n",
    "\n",
    "Ward Linkage:\n",
    "Ward linkage is a method that seeks to minimize the variance within each cluster. It works by computing the increase in the sum of squared distances between points when two clusters are merged, and choosing the pair of clusters that results in the smallest increase in variance. Ward linkage tends to produce compact, spherical clusters of roughly equal size, and is relatively insensitive to noise and outliers.\n",
    "\n",
    "Threshold distance refers to the distance at which the algorithm stops merging clusters. When two clusters have a distance greater than or equal to the threshold distance, they are not merged any further, and the clustering algorithm stops. The threshold distance is often used as a stopping criterion to control the number of clusters produced by the algorithm."
   ]
  },
  {
   "cell_type": "markdown",
   "id": "0cd480a9",
   "metadata": {},
   "source": [
    "# Ward Linkage"
   ]
  },
  {
   "cell_type": "markdown",
   "id": "01729e17",
   "metadata": {},
   "source": [
    "I will start with finding the threshold distance for ward linkage, till the number of clusters equals to the number of unique classes (3). I will use a range of threshold distances from 5 to 8. For each combination of linkage and threshold,I will fit the clustering algorithm to the test_data and calculate the predicted cluster labels for each data point. I then calculate the number of data points in each cluster for each class label. This information is stored in a pandas DataFrame called cluster_counts_df."
   ]
  },
  {
   "cell_type": "code",
   "execution_count": 13,
   "id": "33e535c9",
   "metadata": {},
   "outputs": [
    {
     "name": "stdout",
     "output_type": "stream",
     "text": [
      "Linkage: ward\n",
      "Threshold: 5\n",
      "Clusters: 7\n",
      "Cluster composition by class:\n",
      "         Class 0  Class 1  Class 2\n",
      "Cluster                           \n",
      "0              0        4        0\n",
      "1              8        0        0\n",
      "2              0        8        0\n",
      "3              0        0        6\n",
      "4              6        0        0\n",
      "5              0        2        0\n",
      "6              0        0        2\n",
      "Linkage: ward\n",
      "Threshold: 6\n",
      "Clusters: 4\n",
      "Cluster composition by class:\n",
      "         Class 0  Class 1  Class 2\n",
      "Cluster                           \n",
      "0             14        0        0\n",
      "1              0       10        0\n",
      "2              0        0        8\n",
      "3              0        4        0\n",
      "Linkage: ward\n",
      "Threshold: 7\n",
      "Clusters: 3\n",
      "Cluster composition by class:\n",
      "         Class 0  Class 1  Class 2\n",
      "Cluster                           \n",
      "0              0       14        0\n",
      "1             14        0        0\n",
      "2              0        0        8\n",
      "Linkage: ward\n",
      "Threshold: 8\n",
      "Clusters: 3\n",
      "Cluster composition by class:\n",
      "         Class 0  Class 1  Class 2\n",
      "Cluster                           \n",
      "0              0       14        0\n",
      "1             14        0        0\n",
      "2              0        0        8\n"
     ]
    }
   ],
   "source": [
    "from sklearn.cluster import AgglomerativeClustering\n",
    "for linkage in ['ward']:\n",
    "    for threshold in range(5, 9):\n",
    "        agg_cluster = AgglomerativeClustering(n_clusters=None, linkage=linkage, distance_threshold=threshold)\n",
    "        agg_cluster.fit(test_data)\n",
    "        clust_labels_pred = agg_cluster.labels_\n",
    "        cluster_labels3 = set(clust_labels_pred)\n",
    "        clustercnt_class = {\n",
    "            class_label: [np.sum((clust_labels_pred == cluster_label) & (test_labels == class_label))\n",
    "                          for cluster_label in cluster_labels3]\n",
    "            for class_label in set(test_labels)\n",
    "        }\n",
    "        # Create a pandas DataFrame from the cluster counts by class\n",
    "        cluster_counts_df = pd.DataFrame(clustercnt_class)\n",
    "        cluster_counts_df.columns = [f'Class {i}' for i in cluster_counts_df.columns]\n",
    "        cluster_counts_df.index.name = 'Cluster'\n",
    "        cluster_counts_df = cluster_counts_df.fillna(0).astype(int)\n",
    "\n",
    "        print(f\"Linkage: {linkage}\")\n",
    "        print(f\"Threshold: {threshold}\")\n",
    "        print(f\"Clusters: {agg_cluster.n_clusters_}\")\n",
    "        print(\"Cluster composition by class:\")\n",
    "        print(cluster_counts_df)"
   ]
  },
  {
   "cell_type": "markdown",
   "id": "cce4b632",
   "metadata": {},
   "source": [
    "It is seen that 4 cluster composition tables are created based on the different threshold values. As the distance threshold is increasing, number of clusters is reducing, and it is seen that when the distance reaches 7, the number of clusters equals to the number of unique classes. Therefore 7 will be selected as the required threshold distance for ward linkage."
   ]
  },
  {
   "cell_type": "markdown",
   "id": "cebef4ab",
   "metadata": {},
   "source": [
    "# Average Linkage"
   ]
  },
  {
   "cell_type": "markdown",
   "id": "f010ee68",
   "metadata": {},
   "source": [
    "I will now find the threshold distance for average linkage, till the number of clusters equals to the number of unique classes (3). I will use a range of threshold distances from 4.5 to 4.9 with an increment of 0.1. For each combination of linkage and threshold,I will fit the clustering algorithm to the test_data and calculate the predicted cluster labels for each data point. I then calculate the number of data points in each cluster for each class label. This information is stored in a pandas DataFrame called cluster_counts_df."
   ]
  },
  {
   "cell_type": "code",
   "execution_count": 14,
   "id": "159535d5",
   "metadata": {},
   "outputs": [
    {
     "name": "stdout",
     "output_type": "stream",
     "text": [
      "Linkage: average\n",
      "Threshold: 4.5\n",
      "Clusters: 5\n",
      "Cluster composition by class:\n",
      "         Class 0  Class 1  Class 2\n",
      "Cluster                           \n",
      "0              0        1        8\n",
      "1              0       11        0\n",
      "2             14        0        0\n",
      "3              0        1        0\n",
      "4              0        1        0\n",
      "Linkage: average\n",
      "Threshold: 4.6\n",
      "Clusters: 5\n",
      "Cluster composition by class:\n",
      "         Class 0  Class 1  Class 2\n",
      "Cluster                           \n",
      "0              0        1        8\n",
      "1              0       11        0\n",
      "2             14        0        0\n",
      "3              0        1        0\n",
      "4              0        1        0\n",
      "Linkage: average\n",
      "Threshold: 4.699999999999999\n",
      "Clusters: 4\n",
      "Cluster composition by class:\n",
      "         Class 0  Class 1  Class 2\n",
      "Cluster                           \n",
      "0              0       12        0\n",
      "1              0        1        8\n",
      "2             14        0        0\n",
      "3              0        1        0\n",
      "Linkage: average\n",
      "Threshold: 4.799999999999999\n",
      "Clusters: 3\n",
      "Cluster composition by class:\n",
      "         Class 0  Class 1  Class 2\n",
      "Cluster                           \n",
      "0              0       13        0\n",
      "1              0        1        8\n",
      "2             14        0        0\n",
      "Linkage: average\n",
      "Threshold: 4.899999999999999\n",
      "Clusters: 3\n",
      "Cluster composition by class:\n",
      "         Class 0  Class 1  Class 2\n",
      "Cluster                           \n",
      "0              0       13        0\n",
      "1              0        1        8\n",
      "2             14        0        0\n"
     ]
    }
   ],
   "source": [
    "for linkage in ['average']:\n",
    "    for threshold in np.arange(4.5, 5, 0.1):\n",
    "        agg_cluster = AgglomerativeClustering(n_clusters=None, linkage=linkage, distance_threshold=threshold)\n",
    "        agg_cluster.fit(test_data)\n",
    "        y_pred_test3 = agg_cluster.labels_\n",
    "        cluster_labels3 = set(y_pred_test3)\n",
    "        clustercnt_class2 = {\n",
    "            class_label: [np.sum((y_pred_test3 == cluster_label) & (test_labels == class_label))\n",
    "                          for cluster_label in cluster_labels3]\n",
    "            for class_label in set(test_labels)\n",
    "        }\n",
    "        # Create a pandas DataFrame from the cluster counts by class\n",
    "        cluster_counts_df = pd.DataFrame(clustercnt_class2)\n",
    "        cluster_counts_df.columns = [f'Class {i}' for i in cluster_counts_df.columns]\n",
    "        cluster_counts_df.index.name = 'Cluster'\n",
    "        cluster_counts_df = cluster_counts_df.fillna(0).astype(int)\n",
    "        \n",
    "        print(f\"Linkage: {linkage}\")\n",
    "        print(f\"Threshold: {threshold}\")\n",
    "        print(f\"Clusters: {agg_cluster.n_clusters_}\")\n",
    "        print(\"Cluster composition by class:\")\n",
    "        print(cluster_counts_df)"
   ]
  },
  {
   "cell_type": "markdown",
   "id": "e96d103b",
   "metadata": {},
   "source": [
    "It is seen that 5 cluster composition tables are created based on the different threshold values. As the distance threshold is increasing, number of clusters is reducing, and it is seen that when the distance reaches 4.8, the number of clusters equals to the number of unique classes. Therefore 4.8 will be selected as the required threshold distance for average linkage."
   ]
  },
  {
   "cell_type": "markdown",
   "id": "a83b1b56",
   "metadata": {},
   "source": [
    "# Complete Linkage"
   ]
  },
  {
   "cell_type": "markdown",
   "id": "29e42d31",
   "metadata": {},
   "source": [
    "Next I will find the threshold distance for complete linkage, till the number of clusters equals to the number of unique classes (3). I will use a range of threshold distances from 6 to 8 with an increment of 1. For each combination of linkage and threshold,I will fit the clustering algorithm to the test_data and calculate the predicted cluster labels for each data point. I then calculate the number of data points in each cluster for each class label. This information is stored in a pandas DataFrame called cluster_counts_df."
   ]
  },
  {
   "cell_type": "code",
   "execution_count": 15,
   "id": "103b8cc5",
   "metadata": {},
   "outputs": [
    {
     "name": "stdout",
     "output_type": "stream",
     "text": [
      "Linkage: complete\n",
      "Threshold: 6\n",
      "Clusters: 4\n",
      "Cluster composition by class:\n",
      "         Class 0  Class 1  Class 2\n",
      "Cluster                           \n",
      "0              0       10        0\n",
      "1              0        4        0\n",
      "2             14        0        0\n",
      "3              0        0        8\n",
      "Linkage: complete\n",
      "Threshold: 7\n",
      "Clusters: 3\n",
      "Cluster composition by class:\n",
      "         Class 0  Class 1  Class 2\n",
      "Cluster                           \n",
      "0              0       14        0\n",
      "1              0        0        8\n",
      "2             14        0        0\n",
      "Linkage: complete\n",
      "Threshold: 8\n",
      "Clusters: 2\n",
      "Cluster composition by class:\n",
      "         Class 0  Class 1  Class 2\n",
      "Cluster                           \n",
      "0             14       14        0\n",
      "1              0        0        8\n"
     ]
    }
   ],
   "source": [
    "for linkage in ['complete']:\n",
    "    for threshold in np.arange(6,9):\n",
    "        agg_cluster = AgglomerativeClustering(n_clusters=None, linkage=linkage, distance_threshold=threshold)\n",
    "        agg_cluster.fit(test_data)\n",
    "        y_pred_test3 = agg_cluster.labels_\n",
    "        cluster_labels3 = set(y_pred_test3)\n",
    "        clustercnt_class3 = {\n",
    "            class_label: [np.sum((y_pred_test3 == cluster_label) & (test_labels == class_label))\n",
    "                          for cluster_label in cluster_labels3]\n",
    "            for class_label in set(test_labels)\n",
    "        }\n",
    "        # Create a pandas DataFrame from the cluster counts by class\n",
    "        cluster_counts_df = pd.DataFrame(clustercnt_class3)\n",
    "        cluster_counts_df.columns = [f'Class {i}' for i in cluster_counts_df.columns]\n",
    "        cluster_counts_df.index.name = 'Cluster'\n",
    "        cluster_counts_df = cluster_counts_df.fillna(0).astype(int)\n",
    "\n",
    "        print(f\"Linkage: {linkage}\")\n",
    "        print(f\"Threshold: {threshold}\")\n",
    "        print(f\"Clusters: {agg_cluster.n_clusters_}\")\n",
    "        print(\"Cluster composition by class:\")\n",
    "        print(cluster_counts_df)"
   ]
  },
  {
   "cell_type": "markdown",
   "id": "002535fe",
   "metadata": {},
   "source": [
    "It is seen that 3 cluster composition tables are created based on the different threshold values. As the distance threshold is increasing, number of clusters is reducing, and it is seen that when the distance reaches 7, the number of clusters equals to the number of unique classes. Therefore 7 will be selected as the required threshold distance for complete linkage."
   ]
  },
  {
   "cell_type": "markdown",
   "id": "0bb68db9",
   "metadata": {},
   "source": [
    "# Single Linkage"
   ]
  },
  {
   "cell_type": "markdown",
   "id": "86e6f93a",
   "metadata": {},
   "source": [
    "Next I will find the threshold distance for single linkage, till the number of clusters equals to the number of unique classes (3). I will use a range of threshold distances from 3 to 3.4 with an increment of 0.1. For each combination of linkage and threshold,I will fit the clustering algorithm to the test_data and calculate the predicted cluster labels for each data point. I then calculate the number of data points in each cluster for each class label. This information is stored in a pandas DataFrame called cluster_counts_df."
   ]
  },
  {
   "cell_type": "code",
   "execution_count": 16,
   "id": "f54c5c05",
   "metadata": {},
   "outputs": [
    {
     "name": "stdout",
     "output_type": "stream",
     "text": [
      "Linkage: single\n",
      "Threshold: 3.0\n",
      "Clusters: 4\n",
      "Cluster composition by class:\n",
      "         Class 0  Class 1  Class 2\n",
      "Cluster                           \n",
      "0             14       11        0\n",
      "1              0        1        8\n",
      "2              0        1        0\n",
      "3              0        1        0\n",
      "Linkage: single\n",
      "Threshold: 3.1\n",
      "Clusters: 4\n",
      "Cluster composition by class:\n",
      "         Class 0  Class 1  Class 2\n",
      "Cluster                           \n",
      "0             14       11        0\n",
      "1              0        1        8\n",
      "2              0        1        0\n",
      "3              0        1        0\n",
      "Linkage: single\n",
      "Threshold: 3.2\n",
      "Clusters: 3\n",
      "Cluster composition by class:\n",
      "         Class 0  Class 1  Class 2\n",
      "Cluster                           \n",
      "0             14       12        8\n",
      "1              0        1        0\n",
      "2              0        1        0\n",
      "Linkage: single\n",
      "Threshold: 3.3000000000000003\n",
      "Clusters: 3\n",
      "Cluster composition by class:\n",
      "         Class 0  Class 1  Class 2\n",
      "Cluster                           \n",
      "0             14       12        8\n",
      "1              0        1        0\n",
      "2              0        1        0\n",
      "Linkage: single\n",
      "Threshold: 3.4000000000000004\n",
      "Clusters: 1\n",
      "Cluster composition by class:\n",
      "         Class 0  Class 1  Class 2\n",
      "Cluster                           \n",
      "0             14       14        8\n"
     ]
    }
   ],
   "source": [
    "for linkage in ['single']:\n",
    "    for threshold in np.arange(3,3.5, 0.1):\n",
    "        agg_cluster = AgglomerativeClustering(n_clusters=None, linkage=linkage, distance_threshold=threshold)\n",
    "        agg_cluster.fit(test_data)\n",
    "        y_pred_test3 = agg_cluster.labels_\n",
    "        cluster_labels3 = set(y_pred_test3)\n",
    "        clustercnt_class4 = {\n",
    "            class_label: [np.sum((y_pred_test3 == cluster_label) & (test_labels == class_label))\n",
    "                          for cluster_label in cluster_labels3]\n",
    "            for class_label in set(test_labels)\n",
    "        }\n",
    "        # Create a pandas DataFrame from the cluster counts by class\n",
    "        cluster_counts_df = pd.DataFrame(clustercnt_class4)\n",
    "        cluster_counts_df.columns = [f'Class {i}' for i in cluster_counts_df.columns]\n",
    "        cluster_counts_df.index.name = 'Cluster'\n",
    "        cluster_counts_df = cluster_counts_df.fillna(0).astype(int)\n",
    "\n",
    "        print(f\"Linkage: {linkage}\")\n",
    "        print(f\"Threshold: {threshold}\")\n",
    "        print(f\"Clusters: {agg_cluster.n_clusters_}\")\n",
    "        print(\"Cluster composition by class:\")\n",
    "        print(cluster_counts_df)"
   ]
  },
  {
   "cell_type": "markdown",
   "id": "9a5f8a74",
   "metadata": {},
   "source": [
    "It is seen that 5 cluster composition tables are created based on the different threshold values. As the distance threshold is increasing, number of clusters is reducing, and it is seen that when the distance reaches 3.2, the number of clusters equals to the number of unique classes. Therefore 3.2 will be selected as the required threshold distance for single linkage."
   ]
  },
  {
   "cell_type": "markdown",
   "id": "fb69259a",
   "metadata": {},
   "source": [
    "# Combination of best threshold distance for each linkage type with plottings"
   ]
  },
  {
   "cell_type": "markdown",
   "id": "928bf87e",
   "metadata": {},
   "source": [
    "I have created a linkage_threshold_dict dictionary which specifies the linkage criteria to use for the agglomerative clustering, as well as the distance threshold for each criterion (These are got from the previous steps). For each key in the dictionary, agglomerative clustering is performed using the corresponding linkage and threshold values. The Cluster composition is stored in a pandas DataFrame. Then finally, a scatter plot of the first two principal components of the data, with the points colored by their predicted cluster assignments (Done separately for each linkage type)."
   ]
  },
  {
   "cell_type": "code",
   "execution_count": 17,
   "id": "bb38e31a",
   "metadata": {},
   "outputs": [
    {
     "name": "stdout",
     "output_type": "stream",
     "text": [
      "Linkage: ward\n",
      "Threshold: 7\n",
      "Clusters: 3\n",
      "Cluster composition by class:\n",
      "         Class 0  Class 1  Class 2\n",
      "Cluster                           \n",
      "0              0       14        0\n",
      "1             14        0        0\n",
      "2              0        0        8\n"
     ]
    },
    {
     "data": {
      "image/png": "[encoded data removed]",
      "text/plain": [
       "<Figure size 640x480 with 1 Axes>"
      ]
     },
     "metadata": {},
     "output_type": "display_data"
    },
    {
     "name": "stdout",
     "output_type": "stream",
     "text": [
      "Linkage: complete\n",
      "Threshold: 7\n",
      "Clusters: 3\n",
      "Cluster composition by class:\n",
      "         Class 0  Class 1  Class 2\n",
      "Cluster                           \n",
      "0              0       14        0\n",
      "1              0        0        8\n",
      "2             14        0        0\n"
     ]
    },
    {
     "data": {
      "image/png": "[encoded data removed]",
      "text/plain": [
       "<Figure size 640x480 with 1 Axes>"
      ]
     },
     "metadata": {},
     "output_type": "display_data"
    },
    {
     "name": "stdout",
     "output_type": "stream",
     "text": [
      "Linkage: average\n",
      "Threshold: 4.8\n",
      "Clusters: 3\n",
      "Cluster composition by class:\n",
      "         Class 0  Class 1  Class 2\n",
      "Cluster                           \n",
      "0              0       13        0\n",
      "1              0        1        8\n",
      "2             14        0        0\n"
     ]
    },
    {
     "data": {
      "image/png": "[encoded data removed]",
      "text/plain": [
       "<Figure size 640x480 with 1 Axes>"
      ]
     },
     "metadata": {},
     "output_type": "display_data"
    },
    {
     "name": "stdout",
     "output_type": "stream",
     "text": [
      "Linkage: single\n",
      "Threshold: 3.2\n",
      "Clusters: 3\n",
      "Cluster composition by class:\n",
      "         Class 0  Class 1  Class 2\n",
      "Cluster                           \n",
      "0             14       12        8\n",
      "1              0        1        0\n",
      "2              0        1        0\n"
     ]
    },
    {
     "data": {
      "image/png": "[encoded data removed]",
      "text/plain": [
       "<Figure size 640x480 with 1 Axes>"
      ]
     },
     "metadata": {},
     "output_type": "display_data"
    }
   ],
   "source": [
    "linkage_threshold_dict = {\"ward\": 7, \"complete\": 7, \"average\": 4.8, \"single\": 3.2}\n",
    "\n",
    "for iter, key in enumerate(linkage_threshold_dict.keys()):\n",
    "    linkage = key\n",
    "    threshold = linkage_threshold_dict[key]\n",
    "    agg_cluster = AgglomerativeClustering(n_clusters=None, linkage=linkage, distance_threshold=threshold)\n",
    "    agg_cluster.fit(test_data)\n",
    "    predicted_labels = agg_cluster.labels_\n",
    "    cluster_labels3 = set(predicted_labels)\n",
    "    clustercnt_class5 = {class_label: [np.sum((predicted_labels == cluster_label) & (test_labels == class_label))\n",
    "                                              for cluster_label in cluster_labels3]\n",
    "                                for class_label in set(test_labels)}\n",
    "    \n",
    "     # Create a pandas DataFrame from the cluster counts by class\n",
    "    cluster_counts_df = pd.DataFrame(clustercnt_class5)\n",
    "    cluster_counts_df.columns = [f'Class {i}' for i in cluster_counts_df.columns]\n",
    "    cluster_counts_df.index.name = 'Cluster'\n",
    "    cluster_counts_df = cluster_counts_df.fillna(0).astype(int)\n",
    "    \n",
    "    print(f\"Linkage: {linkage}\")\n",
    "    print(f\"Threshold: {threshold}\")\n",
    "    print(f\"Clusters: {agg_cluster.n_clusters_}\")\n",
    "    print(\"Cluster composition by class:\")\n",
    "    print(cluster_counts_df)\n",
    "    \n",
    "    plt.figure(3+iter)\n",
    "    plt.scatter(pca.transform(test_data)[:, 0], pca.transform(test_data)[:, 1], c=predicted_labels)\n",
    "    plt.title(f\"Agglomerative Clustering of Wine Dataset ({linkage} linkage, threshold={threshold})\")\n",
    "    plt.xlabel(\"PCA Component 1\")\n",
    "    plt.ylabel(\"PCA Component 2\")\n",
    "    plt.show()    "
   ]
  },
  {
   "cell_type": "markdown",
   "id": "a0700bfc",
   "metadata": {},
   "source": [
    "The cluster composition for each linkage and a scatter plot is shown. Starting with the ward linkage it is seen that there are 3 distinct clusters formed for each unique class label, and it is clearly visible in the scatter plot. Complete linkage gives a similar output as ward linkage. The threshold distance is the same and once again, three distinct clusters are formed for each unique class label. Average linkage generates 2 distinct clusers are class_0 and class_2, however class_1 had samples in two clusters. Single linkage did not perform well as one cluster had almost all samples from all 3 classes, leaving only two samples for the other two clusters. This could be due to its high sensitivity to noise and outliers."
   ]
  },
  {
   "cell_type": "markdown",
   "id": "0c57643b",
   "metadata": {},
   "source": [
    "# Conclusion"
   ]
  },
  {
   "cell_type": "markdown",
   "id": "923e32db",
   "metadata": {},
   "source": [
    "For this task, two clustering algorithms were used, K-Means and Agglomerative Clustering Algorithms. When PCA is applied with 2 components, the resulting data can be visualized in a 2-dimensional space. When the number of clusters were equal to the number of unique classes, both algorithms generated a similar output. The cluster compositions of K-Means with 3 clusters and Agglomerative Clustering of average linkage with 3 clusters give the same results. \n",
    "\n",
    "However in the case of K-Means, the algorithm performs better when the number of clusters equalts to the number of unique classes. When increasing the number of clusters, there was overlapping and some clusters did not have enough samples for evaluation.\n",
    "\n",
    "In the case of Agglomerative Clustering, it is seen that for all types of linkage, increasing the threshold distance reduces the number of clusters formed. Ward linkage and complete linkage had the same threshold distance, and they perfomed the best, as 3 distinct clusters were formed for each unique class. Average linkage performed decent wih having 2 distinct clusters, with only one overlapping sample, but single linkage did not perform well. This could be possibly be due to that single linkage is highly sensitive to noise and outliers because it tends to connect points that are close together, even if they do not belong to the same cluster.\n",
    "\n",
    "In conclusion, the choice between k-means and agglomerative clustering depends on the nature of the data and the specific goals of the analysis. The performance vary with datasets and the chosen parameters. In my task, both algorithms performed well with choosing the best parameters."
   ]
  }
 ],
 "metadata": {
  "kernelspec": {
   "display_name": "Python 3 (ipykernel)",
   "language": "python",
   "name": "python3"
  },
  "language_info": {
   "codemirror_mode": {
    "name": "ipython",
    "version": 3
   },
   "file_extension": ".py",
   "mimetype": "text/x-python",
   "name": "python",
   "nbconvert_exporter": "python",
   "pygments_lexer": "ipython3",
   "version": "3.9.13"
  }
 },
 "nbformat": 4,
 "nbformat_minor": 5
}
